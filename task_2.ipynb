{
  "nbformat": 4,
  "nbformat_minor": 0,
  "metadata": {
    "colab": {
      "name": "task-2",
      "provenance": [],
      "collapsed_sections": []
    },
    "kernelspec": {
      "name": "python3",
      "display_name": "Python 3"
    }
  },
  "cells": [
    {
      "cell_type": "code",
      "metadata": {
        "id": "3JAll6Hk3XOq",
        "colab_type": "code",
        "colab": {
          "base_uri": "https://localhost:8080/",
          "height": 71
        },
        "outputId": "1d26965e-664a-4d78-a22e-45d0259f0891"
      },
      "source": [
        "# Importing all libraries required in this notebook\n",
        "import pandas as pd\n",
        "import numpy as np\n",
        "import matplotlib.pyplot as plt\n",
        "import seaborn as sns\n",
        "\n",
        "\n",
        "\n"
      ],
      "execution_count": 1,
      "outputs": [
        {
          "output_type": "stream",
          "text": [
            "/usr/local/lib/python3.6/dist-packages/statsmodels/tools/_testing.py:19: FutureWarning: pandas.util.testing is deprecated. Use the functions in the public API at pandas.testing instead.\n",
            "  import pandas.util.testing as tm\n"
          ],
          "name": "stderr"
        }
      ]
    },
    {
      "cell_type": "code",
      "metadata": {
        "id": "3EWUMMye4rjZ",
        "colab_type": "code",
        "colab": {
          "base_uri": "https://localhost:8080/",
          "height": 153
        },
        "outputId": "6b46925c-800b-4f44-d994-7ff3f2b25398"
      },
      "source": [
        "# Reading data from remote link\n",
        "url = \"http://bit.ly/w-data\"\n",
        "df = pd.read_csv(url)\n",
        "print(\"Data imported successfully\")\n",
        "print(df.shape)\n",
        "print(df.head())"
      ],
      "execution_count": 2,
      "outputs": [
        {
          "output_type": "stream",
          "text": [
            "Data imported successfully\n",
            "(25, 2)\n",
            "   Hours  Scores\n",
            "0    2.5      21\n",
            "1    5.1      47\n",
            "2    3.2      27\n",
            "3    8.5      75\n",
            "4    3.5      30\n"
          ],
          "name": "stdout"
        }
      ]
    },
    {
      "cell_type": "code",
      "metadata": {
        "id": "bcIWEehE40Ni",
        "colab_type": "code",
        "colab": {
          "base_uri": "https://localhost:8080/",
          "height": 279
        },
        "outputId": "d8ab427a-8843-4d92-d773-8c3677398b0d"
      },
      "source": [
        "\n",
        "# Plotting the distribution of scores\n",
        "ax=sns.scatterplot(x='Hours',y='Scores',data=df)"
      ],
      "execution_count": 3,
      "outputs": [
        {
          "output_type": "display_data",
          "data": {
            "image/png": "[encoded data removed]",
            "text/plain": [
              "<Figure size 432x288 with 1 Axes>"
            ]
          },
          "metadata": {
            "tags": [],
            "needs_background": "light"
          }
        }
      ]
    },
    {
      "cell_type": "code",
      "metadata": {
        "id": "hpbtfBlm5J0s",
        "colab_type": "code",
        "colab": {
          "base_uri": "https://localhost:8080/",
          "height": 51
        },
        "outputId": "3014bf9c-bc15-48ed-c9c8-32cb29402847"
      },
      "source": [
        "\n",
        "\n",
        "X = df.iloc[:, :-1].values\n",
        "y = df.iloc[:, 1].values\n",
        "from sklearn.model_selection import train_test_split  \n",
        "X_train, X_test, y_train, y_test = train_test_split(X, y, \n",
        "                            test_size=0.2, random_state=0) \n",
        "print(X_test.shape)\n",
        "from sklearn.linear_model import LinearRegression\n",
        "model1 = LinearRegression()\n",
        "\n",
        "model1.fit(X_train,y_train)"
      ],
      "execution_count": 4,
      "outputs": [
        {
          "output_type": "stream",
          "text": [
            "(5, 1)\n"
          ],
          "name": "stdout"
        },
        {
          "output_type": "execute_result",
          "data": {
            "text/plain": [
              "LinearRegression(copy_X=True, fit_intercept=True, n_jobs=None, normalize=False)"
            ]
          },
          "metadata": {
            "tags": []
          },
          "execution_count": 4
        }
      ]
    },
    {
      "cell_type": "code",
      "metadata": {
        "id": "ZIG50jNk5Pjz",
        "colab_type": "code",
        "colab": {
          "base_uri": "https://localhost:8080/",
          "height": 265
        },
        "outputId": "9e3dd8c2-ff86-4f33-b0c9-cdf64fd29496"
      },
      "source": [
        "# Plotting the regression line\n",
        "line = model1.coef_*X+model1.intercept_\n",
        "\n",
        "# Plotting for the test data\n",
        "plt.scatter(X, y)\n",
        "plt.plot(X, line,color='r');\n",
        "plt.show()"
      ],
      "execution_count": 5,
      "outputs": [
        {
          "output_type": "display_data",
          "data": {
            "image/png": "[encoded data removed]",
            "text/plain": [
              "<Figure size 432x288 with 1 Axes>"
            ]
          },
          "metadata": {
            "tags": [],
            "needs_background": "light"
          }
        }
      ]
    },
    {
      "cell_type": "code",
      "metadata": {
        "id": "_V1bfW7c5YEj",
        "colab_type": "code",
        "colab": {
          "base_uri": "https://localhost:8080/",
          "height": 68
        },
        "outputId": "075b11bb-afec-42b7-850b-3dc2987176cf"
      },
      "source": [
        "\n",
        "y_pred1 = model1.predict(X_test) # Predicting the scores\n",
        "\n",
        "from sklearn import metrics\n",
        "print('Mean Absolute Error of ridge model:'  ,   metrics.mean_absolute_error(y_test, y_pred1))\n",
        "print('training Score:',model1.score(X_train,y_train))\n",
        "print('test score:',model1.score(X_test,y_test))\n"
      ],
      "execution_count": 6,
      "outputs": [
        {
          "output_type": "stream",
          "text": [
            "Mean Absolute Error of ridge model: 4.183859899002982\n",
            "training Score: 0.9515510725211553\n",
            "test score: 0.9454906892105354\n"
          ],
          "name": "stdout"
        }
      ]
    },
    {
      "cell_type": "code",
      "metadata": {
        "id": "Wtm4jy66P7aR",
        "colab_type": "code",
        "colab": {
          "base_uri": "https://localhost:8080/",
          "height": 316
        },
        "outputId": "51e032aa-7511-452b-929a-4f53a11a5ca9"
      },
      "source": [
        "from sklearn.linear_model import Ridge\n",
        "model2=Ridge(random_state=42)\n",
        "model2.fit(X_train,y_train)\n",
        "y_pred2=model2.predict(X_test)\n",
        "print('Mean Absolute Error of ridge model:'  ,   metrics.mean_absolute_error(y_test, y_pred2))\n",
        "print('training Score:',model2.score(X_train,y_train))\n",
        "print('test score:',model2.score(X_test,y_test))\n",
        "line = model2.coef_*X+model2.intercept_\n",
        "\n",
        "# Plotting for the test data\n",
        "plt.scatter(X, y)\n",
        "plt.plot(X, line,color='r');\n",
        "plt.show()\n"
      ],
      "execution_count": 7,
      "outputs": [
        {
          "output_type": "stream",
          "text": [
            "Mean Absolute Error of ridge model: 4.0893423672211195\n",
            "training Score: 0.9514897501245393\n",
            "test score: 0.9469535028586777\n"
          ],
          "name": "stdout"
        },
        {
          "output_type": "display_data",
          "data": {
            "image/png": "[encoded data removed]",
            "text/plain": [
              "<Figure size 432x288 with 1 Axes>"
            ]
          },
          "metadata": {
            "tags": [],
            "needs_background": "light"
          }
        }
      ]
    },
    {
      "cell_type": "code",
      "metadata": {
        "id": "sAP1_xSrP-Yg",
        "colab_type": "code",
        "colab": {
          "base_uri": "https://localhost:8080/",
          "height": 68
        },
        "outputId": "bf4ca970-a8bb-400b-faa9-b2606223aebe"
      },
      "source": [
        "from sklearn.linear_model import Lasso\n",
        "from sklearn.model_selection import GridSearchCV\n",
        "parameter={'alpha': [0.3,0.6,0.9]}\n",
        "model3=GridSearchCV(Lasso(), param_grid= parameter)\n",
        "model3.fit(X_train,y_train)\n",
        "y_pred3=model3.predict(X_test)\n",
        "print('Mean Absolute Error of lasso model:'  ,   metrics.mean_absolute_error(y_test, y_pred3))\n",
        "print('training Score:',model3.score(X_train,y_train))\n",
        "print('test score:',model3.score(X_test,y_test))\n",
        "\n"
      ],
      "execution_count": 8,
      "outputs": [
        {
          "output_type": "stream",
          "text": [
            "Mean Absolute Error of lasso model: 4.010805386507835\n",
            "training Score: 0.9513455022862184\n",
            "test score: 0.9480194868826209\n"
          ],
          "name": "stdout"
        }
      ]
    },
    {
      "cell_type": "code",
      "metadata": {
        "id": "q7L-yP0D7Wg2",
        "colab_type": "code",
        "colab": {
          "base_uri": "https://localhost:8080/",
          "height": 68
        },
        "outputId": "d49ab70d-36f5-4bb3-fca3-696d95d9f8b2"
      },
      "source": [
        "hours=[[9.5]]\n",
        "pred_val1 = model1.predict(hours)\n",
        "pred_val2 = model2.predict(hours)\n",
        "pred_val3 = model3.predict(hours)\n",
        "print('The predicted value with linear Regression :{}'.format(pred_val1))\n",
        "print('The predicted value with ridge Regression :{}'.format(pred_val2))\n",
        "print('The predicted value with Lasso Regression :{}'.format(pred_val3))"
      ],
      "execution_count": 9,
      "outputs": [
        {
          "output_type": "stream",
          "text": [
            "The predicted value with linear Regression :[96.16939661]\n",
            "The predicted value with ridge Regression :[95.8304701]\n",
            "The predicted value with Lasso Regression :[95.5488476]\n"
          ],
          "name": "stdout"
        }
      ]
    }
  ]
}